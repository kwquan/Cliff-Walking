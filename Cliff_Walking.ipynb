{
 "cells": [
  {
   "cell_type": "markdown",
   "metadata": {},
   "source": [
    "# Cliff Walking\n",
    "### This notebook attempts to solve the Cliff Walking-V0 problem[part of OpenAI's gym environments] using Sarsa & Q-learning\n",
    "### Description of problem: \n",
    "### A 4x12 grid environment, where the agent[starting from bottom left grid][S] attempts to reach the goal[G] in the shortest time possible. All transition rewards=-1 except for stepping onto cliff. If agent steps onto cliff[states 37-46], it transits to initial position with reward=-100. Episode terminates when agent reaches goal state."
   ]
  },
  {
   "cell_type": "markdown",
   "metadata": {},
   "source": [
    "# Part 1: Sarsa"
   ]
  },
  {
   "cell_type": "markdown",
   "metadata": {},
   "source": [
    "#### Import modules"
   ]
  },
  {
   "cell_type": "code",
   "execution_count": 56,
   "metadata": {},
   "outputs": [],
   "source": [
    "from tqdm import tqdm \n",
    "import gym\n",
    "import numpy as np\n",
    "import matplotlib.pyplot as plt"
   ]
  },
  {
   "cell_type": "markdown",
   "metadata": {},
   "source": [
    "#### Create environment "
   ]
  },
  {
   "cell_type": "markdown",
   "metadata": {},
   "source": [
    "We start by creating an array for storing q_values[q_values]. This has num_state rows[48] & num_action columns[4] \\\n",
    "We also create an optimal_policy array for storing optimal actions for each state after running all episodes.     \n",
    "Observe that this array only has 37 states[48-goal state-cliff states] \\\n",
    "Next, we set parameters[epsilon,discount,step_size,episodes] \\\n",
    "Finally, we create 2 empty lists, one for storing the reward of every timestep[total_rewards], the other for storing average rewards for every i%10==0 episode[average_rewards] "
   ]
  },
  {
   "cell_type": "code",
   "execution_count": 288,
   "metadata": {},
   "outputs": [],
   "source": [
    "env = gym.make('CliffWalking-v0', new_step_api=True)"
   ]
  },
  {
   "cell_type": "code",
   "execution_count": 289,
   "metadata": {},
   "outputs": [],
   "source": [
    "q_values = np.zeros((48,4))\n",
    "optimal_policy = np.zeros(37)\n",
    "epsilon = 0.1\n",
    "discount = 0.9\n",
    "step_size = 0.5\n",
    "episodes = 100\n",
    "total_rewards = []\n",
    "average_rewards = []"
   ]
  },
  {
   "cell_type": "markdown",
   "metadata": {},
   "source": [
    "#### Define functions "
   ]
  },
  {
   "cell_type": "markdown",
   "metadata": {},
   "source": [
    "We define some useful functions for agent behavior \\\n",
    "1) choose_action(): \\\n",
    "This calculates action probability & selects an action. If action_prob < epsilon, it will take an exploratory action. Else, act greedily \\\n",
    "2) get_optimal_policy(): \\\n",
    "This obtains the optimal action for each state after running through all episodes. It loops through each state in optimal_policy and gets it's optimal action from q_values\n",
    "3) agent_step(): \\\n",
    "This updates the state-action pair value when next_state is non-terminal \\\n",
    "4) agent_end(): \\\n",
    "This updates the state-action pair value when next_state is terminal. Notice the difference between this & agent_step() "
   ]
  },
  {
   "cell_type": "code",
   "execution_count": 290,
   "metadata": {},
   "outputs": [],
   "source": [
    "def choose_action(s):\n",
    "    action_prob = np.random.uniform(s)\n",
    "    if action_prob < epsilon:\n",
    "        action = env.action_space.sample()\n",
    "    else:\n",
    "        action = np.random.choice([idx for idx in range(4) if q_values[s][idx] == max(q_values[s])])\n",
    "    return int(action)    \n",
    "    \n",
    "def get_optimal_policy():\n",
    "    for i in range(len(optimal_policy)):\n",
    "        optimal_policy[i] = np.random.choice([idx for idx in range(4) if q_values[i][idx] == max(q_values[i])])\n",
    "        \n",
    "def agent_step():\n",
    "    q_values[state][action] += step_size*(reward + discount*q_values[next_state][next_action] - q_values[state][action])\n",
    "    \n",
    "def agent_end():\n",
    "    q_values[state][action] += step_size*(reward - q_values[state][action])\n"
   ]
  },
  {
   "cell_type": "markdown",
   "metadata": {},
   "source": [
    "#### Train agent "
   ]
  },
  {
   "cell_type": "markdown",
   "metadata": {},
   "source": [
    "Logic is as follows: \\\n",
    "For every episode, \\\n",
    "1) reset environment(env.reset()) \\\n",
    "2) initialise 1st action to None \\\n",
    "3) reset terminate to False \\\n",
    "\n",
    "For each timestep when terminate is False: \\\n",
    "1) choose action if it's 1st timestep \\\n",
    "2) pass action to env.step() to obtain next_state, reward & terminate \\\n",
    "3) if next_state is not terminal state: \\\n",
    "&ensp;    a) choose next_action \\\n",
    "&ensp;    b) run agent_step() to update action value \\\n",
    "&ensp;    c) set state to next_state \\\n",
    "&ensp;    d) set action to next_action \\\n",
    "4) if next_state is terminal:   \n",
    "&ensp;    a) run agent_end() to update action value \\\n",
    "5) append reward to total_rewards\n",
    "\n",
    "For every 10th episode, calculate average reward from total_rewards & append to average_rewards\n",
    "\n",
    "After running through all episodes, run get_optimal_policy()"
   ]
  },
  {
   "cell_type": "code",
   "execution_count": 291,
   "metadata": {},
   "outputs": [
    {
     "name": "stderr",
     "output_type": "stream",
     "text": [
      "100%|██████████| 100/100 [00:00<00:00, 832.63it/s]\n"
     ]
    }
   ],
   "source": [
    "for episode in tqdm(range(episodes)):\n",
    "    state = env.reset()\n",
    "    action = None\n",
    "    terminate = False\n",
    "    while not terminate:\n",
    "        if not action:\n",
    "            action = choose_action(state)\n",
    "        next_state, reward, terminate, truncated, info = env.step(action)\n",
    "        if not terminate:\n",
    "            next_action = choose_action(next_state)\n",
    "            agent_step()\n",
    "            state = next_state\n",
    "            action = next_action\n",
    "        else:\n",
    "            agent_end()\n",
    "        total_rewards.append(reward)\n",
    "\n",
    "    if episode%10 == 0:\n",
    "        average_rewards.append(sum(total_rewards)/len(total_rewards))\n",
    "#         print(f\"average reward for batch {episode}: {sum(total_rewards)/len(total_rewards)}\")\n",
    "get_optimal_policy()        \n",
    "       "
   ]
  },
  {
   "cell_type": "markdown",
   "metadata": {},
   "source": [
    "#### Plot average rewards "
   ]
  },
  {
   "cell_type": "markdown",
   "metadata": {},
   "source": [
    "Let's plot average rewards for each episode batch \\\n",
    "Observe that average reward is increasing "
   ]
  },
  {
   "cell_type": "code",
   "execution_count": 299,
   "metadata": {},
   "outputs": [
    {
     "data": {
      "image/png": "[encoded data removed]",
      "text/plain": [
       "<Figure size 432x288 with 1 Axes>"
      ]
     },
     "metadata": {
      "needs_background": "light"
     },
     "output_type": "display_data"
    }
   ],
   "source": [
    "plt.plot(average_rewards)\n",
    "plt.xlabel(\"Episode Batch\")\n",
    "plt.ylabel(\"Average \\n Rewards\",rotation=0, labelpad=20)\n",
    "plt.ylim(round(min(average_rewards)),round(max(average_rewards),4))\n",
    "plt.tight_layout()\n",
    "plt.show()"
   ]
  },
  {
   "cell_type": "markdown",
   "metadata": {},
   "source": [
    "#### Check values "
   ]
  },
  {
   "cell_type": "markdown",
   "metadata": {},
   "source": [
    "Let's see if our optimal_policy gives the shortest path from S to G \\\n",
    "Beginning with our starting position[index 36], we observe it's optimal action to be 0[UP] \\\n",
    "Subsequent succeeding states[indices 24-34] give the same optimal action as 1[RIGHT] \\\n",
    "Finally, optimal_policy[35] moves agent downwards to the goal state "
   ]
  },
  {
   "cell_type": "code",
   "execution_count": 306,
   "metadata": {},
   "outputs": [
    {
     "data": {
      "text/plain": [
       "(0.0, array([1., 1., 1., 1., 1., 1., 1., 1., 1., 1., 1., 2.]))"
      ]
     },
     "execution_count": 306,
     "metadata": {},
     "output_type": "execute_result"
    }
   ],
   "source": [
    "optimal_policy[36], optimal_policy[24:36]"
   ]
  },
  {
   "cell_type": "markdown",
   "metadata": {},
   "source": [
    "Let's check our q_values array \\\n",
    "Observe that rows 37-47 are all zeros \\\n",
    "This is because rows 37-46 correspond to cliff-states while state 47 is the goal state \\\n",
    "So naturally, there are no actions taken from these states & therefore, their action-values are not updated"
   ]
  },
  {
   "cell_type": "code",
   "execution_count": 255,
   "metadata": {},
   "outputs": [
    {
     "data": {
      "text/plain": [
       "array([[ -6.98284463,  -6.8622783 ,  -6.92926874,  -7.01631226],\n",
       "       [ -6.76466455,  -6.70935301,  -6.69029264,  -6.78315817],\n",
       "       [ -6.41514078,  -6.44182674,  -6.4839398 ,  -6.6594808 ],\n",
       "       [ -6.22646397,  -6.15785874,  -6.23733149,  -6.27330435],\n",
       "       [ -5.81879665,  -5.87161841,  -5.8417512 ,  -6.03037583],\n",
       "       [ -5.59873331,  -5.55850042,  -5.55969956,  -5.53938599],\n",
       "       [ -5.3670877 ,  -5.19092124,  -5.14353929,  -5.46804717],\n",
       "       [ -4.86657917,  -4.77248843,  -4.85969263,  -5.02317775],\n",
       "       [ -4.31199908,  -4.26081114,  -4.42077105,  -4.63618792],\n",
       "       [ -4.01263061,  -3.74604801,  -3.86122722,  -3.82761336],\n",
       "       [ -3.36579569,  -3.25681084,  -3.19016403,  -3.57494081],\n",
       "       [ -2.64908109,  -2.82591469,  -2.66556548,  -3.08389385],\n",
       "       [ -6.97841875,  -6.95128253,  -7.09004267,  -7.0817672 ],\n",
       "       [ -6.72193906,  -6.72660033,  -6.9123949 ,  -6.90043202],\n",
       "       [ -6.46941684,  -6.48081287,  -6.48933766,  -6.49877874],\n",
       "       [ -6.22546953,  -6.18373563,  -6.23534353,  -6.3112884 ],\n",
       "       [ -5.82731165,  -5.82809315,  -5.93039542,  -6.14994822],\n",
       "       [ -5.5477665 ,  -5.43397251,  -5.45827603,  -5.42949497],\n",
       "       [ -5.08714058,  -5.01546644,  -5.07462669,  -5.28318873],\n",
       "       [ -4.74975747,  -4.54909283,  -4.60733788,  -4.65092183],\n",
       "       [ -4.23864017,  -4.01935016,  -4.03130363,  -4.51771588],\n",
       "       [ -3.48929961,  -3.39560047,  -3.41509033,  -3.74515188],\n",
       "       [ -2.73428719,  -2.69881505,  -2.68962432,  -2.89889475],\n",
       "       [ -2.04784688,  -2.16914063,  -1.89986232,  -2.3249625 ],\n",
       "       [ -7.17853768,  -7.17570464,  -7.18297904,  -7.18347868],\n",
       "       [ -6.8815259 ,  -6.86189404, -50.3375    ,  -7.0165485 ],\n",
       "       [ -6.58967714,  -6.5132156 , -50.6496875 ,  -6.81849812],\n",
       "       [ -6.17767256,  -6.12579511, -50.545625  ,  -6.31242825],\n",
       "       [ -5.77094443,  -5.6953279 , -50.523125  ,  -5.80074316],\n",
       "       [ -5.23785601,  -5.217031  , -50.8611875 ,  -5.38048592],\n",
       "       [ -4.73984823,  -4.68559   , -50.94795312,  -4.76128069],\n",
       "       [ -4.3951243 ,  -4.0951    , -50.75782813,  -4.54863496],\n",
       "       [ -3.67342629,  -3.439     , -51.14173965,  -3.78711346],\n",
       "       [ -3.19948387,  -2.71      , -51.06332363,  -2.91877712],\n",
       "       [ -2.05037812,  -1.9       , -51.40855403,  -2.35269375],\n",
       "       [ -1.30125   ,  -1.31375   ,  -1.        ,  -1.7548625 ],\n",
       "       [ -7.45813417, -75.225     ,  -7.49159162,  -7.59492321],\n",
       "       [  0.        ,   0.        ,   0.        ,   0.        ],\n",
       "       [  0.        ,   0.        ,   0.        ,   0.        ],\n",
       "       [  0.        ,   0.        ,   0.        ,   0.        ],\n",
       "       [  0.        ,   0.        ,   0.        ,   0.        ],\n",
       "       [  0.        ,   0.        ,   0.        ,   0.        ],\n",
       "       [  0.        ,   0.        ,   0.        ,   0.        ],\n",
       "       [  0.        ,   0.        ,   0.        ,   0.        ],\n",
       "       [  0.        ,   0.        ,   0.        ,   0.        ],\n",
       "       [  0.        ,   0.        ,   0.        ,   0.        ],\n",
       "       [  0.        ,   0.        ,   0.        ,   0.        ],\n",
       "       [  0.        ,   0.        ,   0.        ,   0.        ]])"
      ]
     },
     "execution_count": 255,
     "metadata": {},
     "output_type": "execute_result"
    }
   ],
   "source": [
    "q_values"
   ]
  },
  {
   "cell_type": "markdown",
   "metadata": {},
   "source": [
    "#### Rendering "
   ]
  },
  {
   "cell_type": "markdown",
   "metadata": {},
   "source": [
    "Time to see our agent in action! \\\n",
    "By looping through each state in optimal_policy, we can get the optimal action in that state \\\n",
    "We then pass that action to env.step() before rendering environment again "
   ]
  },
  {
   "cell_type": "markdown",
   "metadata": {},
   "source": [
    "x marks agent's position \\\n",
    "c marks cliff states \\\n",
    "T marks terminal state \n",
    "\n",
    "It's interesting to see our agent making it's way to the goal state via the shortest path[hugging the top of the cliff states] using only 100 episodes of training "
   ]
  },
  {
   "cell_type": "code",
   "execution_count": 304,
   "metadata": {},
   "outputs": [
    {
     "name": "stdout",
     "output_type": "stream",
     "text": [
      "o  o  o  o  o  o  o  o  o  o  o  o\n",
      "o  o  o  o  o  o  o  o  o  o  o  o\n",
      "o  o  o  o  o  o  o  o  o  o  o  o\n",
      "x  C  C  C  C  C  C  C  C  C  C  T\n",
      "\n",
      "o  o  o  o  o  o  o  o  o  o  o  o\n",
      "o  o  o  o  o  o  o  o  o  o  o  o\n",
      "x  o  o  o  o  o  o  o  o  o  o  o\n",
      "o  C  C  C  C  C  C  C  C  C  C  T\n",
      "\n",
      "o  o  o  o  o  o  o  o  o  o  o  o\n",
      "o  o  o  o  o  o  o  o  o  o  o  o\n",
      "o  x  o  o  o  o  o  o  o  o  o  o\n",
      "o  C  C  C  C  C  C  C  C  C  C  T\n",
      "\n",
      "o  o  o  o  o  o  o  o  o  o  o  o\n",
      "o  o  o  o  o  o  o  o  o  o  o  o\n",
      "o  o  x  o  o  o  o  o  o  o  o  o\n",
      "o  C  C  C  C  C  C  C  C  C  C  T\n",
      "\n",
      "o  o  o  o  o  o  o  o  o  o  o  o\n",
      "o  o  o  o  o  o  o  o  o  o  o  o\n",
      "o  o  o  x  o  o  o  o  o  o  o  o\n",
      "o  C  C  C  C  C  C  C  C  C  C  T\n",
      "\n",
      "o  o  o  o  o  o  o  o  o  o  o  o\n",
      "o  o  o  o  o  o  o  o  o  o  o  o\n",
      "o  o  o  o  x  o  o  o  o  o  o  o\n",
      "o  C  C  C  C  C  C  C  C  C  C  T\n",
      "\n",
      "o  o  o  o  o  o  o  o  o  o  o  o\n",
      "o  o  o  o  o  o  o  o  o  o  o  o\n",
      "o  o  o  o  o  x  o  o  o  o  o  o\n",
      "o  C  C  C  C  C  C  C  C  C  C  T\n",
      "\n",
      "o  o  o  o  o  o  o  o  o  o  o  o\n",
      "o  o  o  o  o  o  o  o  o  o  o  o\n",
      "o  o  o  o  o  o  x  o  o  o  o  o\n",
      "o  C  C  C  C  C  C  C  C  C  C  T\n",
      "\n",
      "o  o  o  o  o  o  o  o  o  o  o  o\n",
      "o  o  o  o  o  o  o  o  o  o  o  o\n",
      "o  o  o  o  o  o  o  x  o  o  o  o\n",
      "o  C  C  C  C  C  C  C  C  C  C  T\n",
      "\n",
      "o  o  o  o  o  o  o  o  o  o  o  o\n",
      "o  o  o  o  o  o  o  o  o  o  o  o\n",
      "o  o  o  o  o  o  o  o  x  o  o  o\n",
      "o  C  C  C  C  C  C  C  C  C  C  T\n",
      "\n",
      "o  o  o  o  o  o  o  o  o  o  o  o\n",
      "o  o  o  o  o  o  o  o  o  o  o  o\n",
      "o  o  o  o  o  o  o  o  o  x  o  o\n",
      "o  C  C  C  C  C  C  C  C  C  C  T\n",
      "\n",
      "o  o  o  o  o  o  o  o  o  o  o  o\n",
      "o  o  o  o  o  o  o  o  o  o  o  o\n",
      "o  o  o  o  o  o  o  o  o  o  x  o\n",
      "o  C  C  C  C  C  C  C  C  C  C  T\n",
      "\n",
      "o  o  o  o  o  o  o  o  o  o  o  o\n",
      "o  o  o  o  o  o  o  o  o  o  o  o\n",
      "o  o  o  o  o  o  o  o  o  o  o  x\n",
      "o  C  C  C  C  C  C  C  C  C  C  T\n",
      "\n",
      "o  o  o  o  o  o  o  o  o  o  o  o\n",
      "o  o  o  o  o  o  o  o  o  o  o  o\n",
      "o  o  o  o  o  o  o  o  o  o  o  o\n",
      "o  C  C  C  C  C  C  C  C  C  C  x\n",
      "\n"
     ]
    }
   ],
   "source": [
    "env = gym.make('CliffWalking-v0', new_step_api=True, render_mode='human')\n",
    "state = env.reset()\n",
    "env.render()\n",
    "for episode in range(100):\n",
    "    next_state, reward, done, truncated, info = env.step(int(optimal_policy[state]))\n",
    "    state = next_state\n",
    "    env.render()\n",
    "    \n",
    "    if done:  \n",
    "        break\n",
    "        \n",
    "env.close() "
   ]
  },
  {
   "cell_type": "markdown",
   "metadata": {},
   "source": [
    "#### Conclusion "
   ]
  },
  {
   "cell_type": "markdown",
   "metadata": {},
   "source": [
    "As observed, Sarsa is able to solve this environment efficiently by considering the sum of reward & next state's action value to be the update target at every timestep. Instead of waiting till the end of each episode before updating, Sarsa makes use of the bootstrap idea of Dynamic Programming & combines it with the sampling idea from monte-carlo to form an efficient algorithm. "
   ]
  },
  {
   "cell_type": "markdown",
   "metadata": {},
   "source": [
    "# Part 2: Q-learning"
   ]
  },
  {
   "cell_type": "markdown",
   "metadata": {},
   "source": [
    "Next, let's try Q-learning \\\n",
    "The only difference lies in the agent_step() \\\n",
    "Instead of using the discounted value of the next state-action pair, we assume the agent takes an action that maximizes this value \\\n",
    "Since the agent only uses it's e-greedy policy for getting to the next state, but assumes a greedy policy for estimating q*, Q-learning is considered to be off-policy"
   ]
  },
  {
   "cell_type": "markdown",
   "metadata": {},
   "source": [
    "#### Create environment "
   ]
  },
  {
   "cell_type": "code",
   "execution_count": 345,
   "metadata": {},
   "outputs": [],
   "source": [
    "env = gym.make('CliffWalking-v0', new_step_api=True)"
   ]
  },
  {
   "cell_type": "code",
   "execution_count": 346,
   "metadata": {},
   "outputs": [],
   "source": [
    "q_values = np.zeros((48,4))\n",
    "optimal_policy = np.zeros(37)\n",
    "epsilon = 0.1\n",
    "discount = 0.9\n",
    "step_size = 0.5\n",
    "episodes = 100\n",
    "total_rewards = []\n",
    "average_rewards = []"
   ]
  },
  {
   "cell_type": "markdown",
   "metadata": {},
   "source": [
    "#### Define functions "
   ]
  },
  {
   "cell_type": "markdown",
   "metadata": {},
   "source": [
    "The only difference is agent_step() where we use max(q_values[next_state]) instead of q_values[next_state][next_action]"
   ]
  },
  {
   "cell_type": "code",
   "execution_count": 347,
   "metadata": {},
   "outputs": [],
   "source": [
    "def choose_action(s):\n",
    "    action_prob = np.random.uniform(s)\n",
    "    if action_prob < epsilon:\n",
    "        action = env.action_space.sample()\n",
    "    else:\n",
    "        action = np.random.choice([idx for idx in range(4) if q_values[s][idx] == max(q_values[s])])\n",
    "    return int(action)    \n",
    "    \n",
    "def get_optimal_policy():\n",
    "    for i in range(len(optimal_policy)):\n",
    "        optimal_policy[i] = np.random.choice([idx for idx in range(4) if q_values[i][idx] == max(q_values[i])])\n",
    "        \n",
    "def agent_step():\n",
    "    best_q = np.random.choice([q for q in q_values[next_state] if q == max(q_values[next_state])])\n",
    "    q_values[state][action] += step_size*(reward + discount*best_q - q_values[state][action])\n",
    "    \n",
    "def agent_end():\n",
    "    q_values[state][action] += step_size*(reward - q_values[state][action])"
   ]
  },
  {
   "cell_type": "markdown",
   "metadata": {},
   "source": [
    "#### Train agent "
   ]
  },
  {
   "cell_type": "code",
   "execution_count": 348,
   "metadata": {},
   "outputs": [
    {
     "name": "stderr",
     "output_type": "stream",
     "text": [
      "100%|██████████| 100/100 [00:00<00:00, 718.18it/s]\n"
     ]
    }
   ],
   "source": [
    "for episode in tqdm(range(episodes)):\n",
    "    state = env.reset()\n",
    "    terminate = False\n",
    "    while not terminate:\n",
    "        action = choose_action(state)\n",
    "        next_state, reward, terminate, truncated, info = env.step(action)\n",
    "        if not terminate:\n",
    "            agent_step()\n",
    "            state = next_state\n",
    "        else:\n",
    "            agent_end()\n",
    "        total_rewards.append(reward)\n",
    "\n",
    "    if episode%10 == 0:\n",
    "        average_rewards.append(sum(total_rewards)/len(total_rewards))\n",
    "#         print(f\"average reward for batch {episode}: {sum(total_rewards)/len(total_rewards)}\")\n",
    "get_optimal_policy()        \n",
    "       "
   ]
  },
  {
   "cell_type": "markdown",
   "metadata": {},
   "source": [
    "#### Plot average rewards "
   ]
  },
  {
   "cell_type": "code",
   "execution_count": 349,
   "metadata": {},
   "outputs": [
    {
     "data": {
      "image/png": "[encoded data removed]",
      "text/plain": [
       "<Figure size 432x288 with 1 Axes>"
      ]
     },
     "metadata": {
      "needs_background": "light"
     },
     "output_type": "display_data"
    }
   ],
   "source": [
    "plt.plot(average_rewards)\n",
    "plt.xlabel(\"Episode Batch\")\n",
    "plt.ylabel(\"Average \\n Rewards\",rotation=0, labelpad=20)\n",
    "plt.ylim(round(min(average_rewards)),round(max(average_rewards),4))\n",
    "plt.tight_layout()\n",
    "plt.show()"
   ]
  },
  {
   "cell_type": "markdown",
   "metadata": {},
   "source": [
    "#### Check values "
   ]
  },
  {
   "cell_type": "markdown",
   "metadata": {},
   "source": [
    "Observe that Q-learning agent is also able to find the same optimal path to the goal state"
   ]
  },
  {
   "cell_type": "code",
   "execution_count": 350,
   "metadata": {},
   "outputs": [
    {
     "data": {
      "text/plain": [
       "(0.0, array([1., 1., 1., 1., 1., 1., 1., 1., 1., 1., 1., 2.]))"
      ]
     },
     "execution_count": 350,
     "metadata": {},
     "output_type": "execute_result"
    }
   ],
   "source": [
    "optimal_policy[36], optimal_policy[24:36]"
   ]
  },
  {
   "cell_type": "markdown",
   "metadata": {},
   "source": [
    "Again, rows 37-47 consist of zeros"
   ]
  },
  {
   "cell_type": "code",
   "execution_count": 351,
   "metadata": {},
   "outputs": [
    {
     "data": {
      "text/plain": [
       "array([[ -6.89410964,  -6.84226036,  -6.80415752,  -6.93320904],\n",
       "       [ -6.76466455,  -6.68185913,  -6.74107327,  -6.68718177],\n",
       "       [ -6.41514078,  -6.45903239,  -6.54480943,  -6.59365568],\n",
       "       [ -6.22646397,  -6.18968226,  -6.35497838,  -6.16634351],\n",
       "       [ -6.02785682,  -5.91830658,  -6.00453241,  -5.97659562],\n",
       "       [ -5.59873331,  -5.58063198,  -5.66047277,  -5.78074395],\n",
       "       [ -5.3670877 ,  -5.21209497,  -5.28804156,  -5.50162887],\n",
       "       [ -4.86657917,  -4.7986147 ,  -4.79457506,  -4.88825837],\n",
       "       [ -4.31199908,  -4.28015226,  -4.45054653,  -4.41699266],\n",
       "       [ -4.01263061,  -3.82029414,  -3.75623186,  -4.03640884],\n",
       "       [ -3.36579569,  -3.29730237,  -3.28450687,  -3.59236272],\n",
       "       [ -3.01662704,  -3.01662704,  -2.6844207 ,  -2.7541193 ],\n",
       "       [ -6.96394495,  -7.01381867,  -7.09766019,  -7.08010976],\n",
       "       [ -6.7734418 ,  -6.79870044,  -6.94908663,  -6.91176901],\n",
       "       [ -6.53909239,  -6.53951088,  -6.59546835,  -6.64970923],\n",
       "       [ -6.34053028,  -6.22432228,  -6.21803885,  -6.23201165],\n",
       "       [ -6.00159059,  -5.88219197,  -5.9525255 ,  -6.15710826],\n",
       "       [ -5.73465366,  -5.47678131,  -5.50372824,  -5.57488405],\n",
       "       [ -5.1965909 ,  -5.05448198,  -5.02493303,  -5.39566444],\n",
       "       [ -4.79284665,  -4.5723776 ,  -4.56970852,  -4.67421646],\n",
       "       [ -4.16733106,  -4.04162178,  -4.05171119,  -4.21851781],\n",
       "       [ -3.50022699,  -3.40889217,  -3.39437537,  -4.00026421],\n",
       "       [ -2.83437492,  -2.70056841,  -2.70142804,  -3.13676606],\n",
       "       [ -2.04784688,  -2.26219063,  -1.89993718,  -2.0986125 ],\n",
       "       [ -7.19905983,  -7.17570464,  -7.42253388,  -7.22610427],\n",
       "       [ -6.95407385,  -6.86189404, -50.39375   ,  -6.97651488],\n",
       "       [ -6.59038887,  -6.5132156 , -50.6418125 ,  -6.51722782],\n",
       "       [ -6.26117584,  -6.12579511, -50.225     ,  -6.45377585],\n",
       "       [ -5.77168535,  -5.6953279 , -50.5878125 ,  -5.94532866],\n",
       "       [ -5.33903682,  -5.217031  , -50.83472187,  -5.48539642],\n",
       "       [ -4.90068605,  -4.68559   , -50.94334766,  -4.97104193],\n",
       "       [ -4.18463466,  -4.0951    , -51.16555361,  -4.25245201],\n",
       "       [ -3.45752909,  -3.439     , -51.01798578,  -4.0105604 ],\n",
       "       [ -3.02862151,  -2.71      , -51.19208649,  -3.13942529],\n",
       "       [ -2.24676164,  -1.9       , -51.35748217,  -1.94167016],\n",
       "       [ -1.18875   ,  -1.42625   ,  -1.        ,  -1.295625  ],\n",
       "       [ -7.45813417, -50.        ,  -7.4965591 ,  -7.4965591 ],\n",
       "       [  0.        ,   0.        ,   0.        ,   0.        ],\n",
       "       [  0.        ,   0.        ,   0.        ,   0.        ],\n",
       "       [  0.        ,   0.        ,   0.        ,   0.        ],\n",
       "       [  0.        ,   0.        ,   0.        ,   0.        ],\n",
       "       [  0.        ,   0.        ,   0.        ,   0.        ],\n",
       "       [  0.        ,   0.        ,   0.        ,   0.        ],\n",
       "       [  0.        ,   0.        ,   0.        ,   0.        ],\n",
       "       [  0.        ,   0.        ,   0.        ,   0.        ],\n",
       "       [  0.        ,   0.        ,   0.        ,   0.        ],\n",
       "       [  0.        ,   0.        ,   0.        ,   0.        ],\n",
       "       [  0.        ,   0.        ,   0.        ,   0.        ]])"
      ]
     },
     "execution_count": 351,
     "metadata": {},
     "output_type": "execute_result"
    }
   ],
   "source": [
    "q_values"
   ]
  },
  {
   "cell_type": "markdown",
   "metadata": {},
   "source": [
    "#### Rendering "
   ]
  },
  {
   "cell_type": "code",
   "execution_count": 352,
   "metadata": {},
   "outputs": [
    {
     "name": "stdout",
     "output_type": "stream",
     "text": [
      "o  o  o  o  o  o  o  o  o  o  o  o\n",
      "o  o  o  o  o  o  o  o  o  o  o  o\n",
      "o  o  o  o  o  o  o  o  o  o  o  o\n",
      "x  C  C  C  C  C  C  C  C  C  C  T\n",
      "\n",
      "o  o  o  o  o  o  o  o  o  o  o  o\n",
      "o  o  o  o  o  o  o  o  o  o  o  o\n",
      "x  o  o  o  o  o  o  o  o  o  o  o\n",
      "o  C  C  C  C  C  C  C  C  C  C  T\n",
      "\n",
      "o  o  o  o  o  o  o  o  o  o  o  o\n",
      "o  o  o  o  o  o  o  o  o  o  o  o\n",
      "o  x  o  o  o  o  o  o  o  o  o  o\n",
      "o  C  C  C  C  C  C  C  C  C  C  T\n",
      "\n",
      "o  o  o  o  o  o  o  o  o  o  o  o\n",
      "o  o  o  o  o  o  o  o  o  o  o  o\n",
      "o  o  x  o  o  o  o  o  o  o  o  o\n",
      "o  C  C  C  C  C  C  C  C  C  C  T\n",
      "\n",
      "o  o  o  o  o  o  o  o  o  o  o  o\n",
      "o  o  o  o  o  o  o  o  o  o  o  o\n",
      "o  o  o  x  o  o  o  o  o  o  o  o\n",
      "o  C  C  C  C  C  C  C  C  C  C  T\n",
      "\n",
      "o  o  o  o  o  o  o  o  o  o  o  o\n",
      "o  o  o  o  o  o  o  o  o  o  o  o\n",
      "o  o  o  o  x  o  o  o  o  o  o  o\n",
      "o  C  C  C  C  C  C  C  C  C  C  T\n",
      "\n",
      "o  o  o  o  o  o  o  o  o  o  o  o\n",
      "o  o  o  o  o  o  o  o  o  o  o  o\n",
      "o  o  o  o  o  x  o  o  o  o  o  o\n",
      "o  C  C  C  C  C  C  C  C  C  C  T\n",
      "\n",
      "o  o  o  o  o  o  o  o  o  o  o  o\n",
      "o  o  o  o  o  o  o  o  o  o  o  o\n",
      "o  o  o  o  o  o  x  o  o  o  o  o\n",
      "o  C  C  C  C  C  C  C  C  C  C  T\n",
      "\n",
      "o  o  o  o  o  o  o  o  o  o  o  o\n",
      "o  o  o  o  o  o  o  o  o  o  o  o\n",
      "o  o  o  o  o  o  o  x  o  o  o  o\n",
      "o  C  C  C  C  C  C  C  C  C  C  T\n",
      "\n",
      "o  o  o  o  o  o  o  o  o  o  o  o\n",
      "o  o  o  o  o  o  o  o  o  o  o  o\n",
      "o  o  o  o  o  o  o  o  x  o  o  o\n",
      "o  C  C  C  C  C  C  C  C  C  C  T\n",
      "\n",
      "o  o  o  o  o  o  o  o  o  o  o  o\n",
      "o  o  o  o  o  o  o  o  o  o  o  o\n",
      "o  o  o  o  o  o  o  o  o  x  o  o\n",
      "o  C  C  C  C  C  C  C  C  C  C  T\n",
      "\n",
      "o  o  o  o  o  o  o  o  o  o  o  o\n",
      "o  o  o  o  o  o  o  o  o  o  o  o\n",
      "o  o  o  o  o  o  o  o  o  o  x  o\n",
      "o  C  C  C  C  C  C  C  C  C  C  T\n",
      "\n",
      "o  o  o  o  o  o  o  o  o  o  o  o\n",
      "o  o  o  o  o  o  o  o  o  o  o  o\n",
      "o  o  o  o  o  o  o  o  o  o  o  x\n",
      "o  C  C  C  C  C  C  C  C  C  C  T\n",
      "\n",
      "o  o  o  o  o  o  o  o  o  o  o  o\n",
      "o  o  o  o  o  o  o  o  o  o  o  o\n",
      "o  o  o  o  o  o  o  o  o  o  o  o\n",
      "o  C  C  C  C  C  C  C  C  C  C  x\n",
      "\n"
     ]
    }
   ],
   "source": [
    "env = gym.make('CliffWalking-v0', new_step_api=True, render_mode='human')\n",
    "state = env.reset()\n",
    "env.render()\n",
    "for episode in range(100):\n",
    "    next_state, reward, done, truncated, info = env.step(int(optimal_policy[state]))\n",
    "    state = next_state\n",
    "    env.render()\n",
    "    \n",
    "    if done:  \n",
    "        break\n",
    "        \n",
    "env.close() "
   ]
  },
  {
   "cell_type": "markdown",
   "metadata": {},
   "source": [
    "#### Conclusion "
   ]
  },
  {
   "cell_type": "markdown",
   "metadata": {},
   "source": [
    "We observe that Q-learning is also able to solve this environment efficiently. By taking max(q_values[next_state]), Q-learning simplifies the code a little and yet is able to achieve similar results to Sarsa. \n",
    "\n",
    "Some differences are as followed: \\\n",
    "1) Q-learning directly learns optimal policy while Sarsa learns near-optimal policy. Parameter adjustments may be required for Sarsa to learn an optimal policy \\\n",
    "2) Q-learning follows an e-greedy policy but uses a greedy policy for estimating action values. Sarsa uses the same policy for estimating action values "
   ]
  }
 ],
 "metadata": {
  "kernelspec": {
   "display_name": "Python 3",
   "language": "python",
   "name": "python3"
  },
  "language_info": {
   "codemirror_mode": {
    "name": "ipython",
    "version": 3
   },
   "file_extension": ".py",
   "mimetype": "text/x-python",
   "name": "python",
   "nbconvert_exporter": "python",
   "pygments_lexer": "ipython3",
   "version": "3.8.3"
  }
 },
 "nbformat": 4,
 "nbformat_minor": 4
}
