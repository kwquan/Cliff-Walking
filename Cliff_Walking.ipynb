{
 "cells": [
  {
   "cell_type": "markdown",
   "metadata": {},
   "source": [
    "# Cliff Walking\n",
    "### This notebook attempts to solve the Cliff Walking-V0 problem[part of OpenAI's gym environments] using Sarsa & Q-learning\n",
    "### Description of problem: \n",
    "### A 4x12 grid environment, where the agent[starting from bottom left grid][S] attempts to reach the goal[G] in the shortest time possible. All transition rewards=-1 except for stepping onto cliff. If agent steps onto cliff[states 37-46], it transits to initial position with reward=-100. Episode terminates when agent reaches goal state."
   ]
  },
  {
   "cell_type": "markdown",
   "metadata": {},
   "source": [
    "# Part 1: Sarsa"
   ]
  },
  {
   "cell_type": "markdown",
   "metadata": {},
   "source": [
    "#### Import modules"
   ]
  },
  {
   "cell_type": "code",
   "execution_count": 15,
   "metadata": {},
   "outputs": [],
   "source": [
    "from tqdm import tqdm \n",
    "import gym\n",
    "import numpy as np\n",
    "import matplotlib.pyplot as plt"
   ]
  },
  {
   "cell_type": "markdown",
   "metadata": {},
   "source": [
    "#### Create environment "
   ]
  },
  {
   "cell_type": "markdown",
   "metadata": {},
   "source": [
    "We start by creating an array for storing q_values[q_values]. This has num_state rows[48] & num_action columns[4] \\\n",
    "We also create an optimal_policy array for storing optimal actions for each state after running all episodes.     \n",
    "Observe that this array only has 37 states[48-goal state-cliff states] \\\n",
    "Next, we set parameters[epsilon,discount,step_size,episodes] \\\n",
    "Finally, we create 2 empty lists, one for storing the reward of every timestep[total_rewards], the other for storing average rewards for every i%10==0 episode[average_rewards] "
   ]
  },
  {
   "cell_type": "code",
   "execution_count": 22,
   "metadata": {},
   "outputs": [],
   "source": [
    "env = gym.make('CliffWalking-v0', new_step_api=True)"
   ]
  },
  {
   "cell_type": "code",
   "execution_count": 23,
   "metadata": {},
   "outputs": [],
   "source": [
    "q_values = np.zeros((48,4))\n",
    "optimal_policy = np.zeros(37)\n",
    "epsilon = 0.1\n",
    "discount = 0.9\n",
    "step_size = 0.5\n",
    "episodes = 100\n",
    "all_rewards = []"
   ]
  },
  {
   "cell_type": "markdown",
   "metadata": {},
   "source": [
    "#### Define functions "
   ]
  },
  {
   "cell_type": "markdown",
   "metadata": {},
   "source": [
    "We define some useful functions for agent behavior \\\n",
    "1) choose_action(): \\\n",
    "This calculates action probability & selects an action. If action_prob < epsilon, it will take an exploratory action. Else, act greedily \\\n",
    "2) get_optimal_policy(): \\\n",
    "This obtains the optimal action for each state after running through all episodes. It loops through each state in optimal_policy and gets it's optimal action from q_values\n",
    "3) agent_step(): \\\n",
    "This updates the state-action pair value when next_state is non-terminal \\\n",
    "4) agent_end(): \\\n",
    "This updates the state-action pair value when next_state is terminal. Notice the difference between this & agent_step() "
   ]
  },
  {
   "cell_type": "code",
   "execution_count": 24,
   "metadata": {},
   "outputs": [],
   "source": [
    "def choose_action(s):\n",
    "    action_prob = np.random.uniform(s)\n",
    "    if action_prob < epsilon:\n",
    "        action = env.action_space.sample()\n",
    "    else:\n",
    "        action = np.random.choice([idx for idx in range(4) if q_values[s][idx] == max(q_values[s])])\n",
    "    return int(action)    \n",
    "    \n",
    "def get_optimal_policy():\n",
    "    for i in range(len(optimal_policy)):\n",
    "        optimal_policy[i] = np.random.choice([idx for idx in range(4) if q_values[i][idx] == max(q_values[i])])\n",
    "        \n",
    "def agent_step():\n",
    "    q_values[state][action] += step_size*(reward + discount*q_values[next_state][next_action] - q_values[state][action])\n",
    "    \n",
    "def agent_end():\n",
    "    q_values[state][action] += step_size*(reward - q_values[state][action])\n"
   ]
  },
  {
   "cell_type": "markdown",
   "metadata": {},
   "source": [
    "#### Train agent "
   ]
  },
  {
   "cell_type": "markdown",
   "metadata": {},
   "source": [
    "Logic is as follows: \\\n",
    "For every episode, \\\n",
    "1) reset environment(env.reset()) \\\n",
    "2) initialise 1st action to None \\\n",
    "3) reset terminate to False \\\n",
    "\n",
    "For each timestep when terminate is False: \\\n",
    "1) choose action if it's 1st timestep \\\n",
    "2) pass action to env.step() to obtain next_state, reward & terminate \\\n",
    "3) if next_state is not terminal state: \\\n",
    "&ensp;    a) choose next_action \\\n",
    "&ensp;    b) run agent_step() to update action value \\\n",
    "&ensp;    c) set state to next_state \\\n",
    "&ensp;    d) set action to next_action \\\n",
    "4) if next_state is terminal:   \n",
    "&ensp;    a) run agent_end() to update action value \\\n",
    "5) append reward to total_rewards\n",
    "\n",
    "For every 10th episode, calculate average reward from total_rewards & append to average_rewards\n",
    "\n",
    "After running through all episodes, run get_optimal_policy()"
   ]
  },
  {
   "cell_type": "code",
   "execution_count": 25,
   "metadata": {},
   "outputs": [
    {
     "name": "stderr",
     "output_type": "stream",
     "text": [
      "100%|██████████| 100/100 [00:00<00:00, 840.12it/s]\n"
     ]
    }
   ],
   "source": [
    "for episode in tqdm(range(episodes)):\n",
    "    state = env.reset()\n",
    "    action = None\n",
    "    terminate = False\n",
    "    episode_rewards = 0\n",
    "    while not terminate:\n",
    "        if not action:\n",
    "            action = choose_action(state)\n",
    "        next_state, reward, terminate, truncated, info = env.step(action)\n",
    "        episode_rewards += reward\n",
    "        if not terminate:\n",
    "            next_action = choose_action(next_state)\n",
    "            agent_step()\n",
    "            state = next_state\n",
    "            action = next_action\n",
    "        else:\n",
    "            agent_end()\n",
    "            all_rewards.append(episode_rewards)\n",
    "\n",
    "#     if episode%10 == 0:\n",
    "#         average_rewards.append(sum(total_rewards)/len(total_rewards))\n",
    "#         print(f\"average reward for batch {episode}: {sum(total_rewards)/len(total_rewards)}\")\n",
    "get_optimal_policy()        \n",
    "       "
   ]
  },
  {
   "cell_type": "markdown",
   "metadata": {},
   "source": [
    "#### Plot average rewards "
   ]
  },
  {
   "cell_type": "markdown",
   "metadata": {},
   "source": [
    "Let's plot average rewards for each episode batch \\\n",
    "Observe that average reward is increasing "
   ]
  },
  {
   "cell_type": "code",
   "execution_count": 27,
   "metadata": {},
   "outputs": [
    {
     "data": {
      "image/png": "[encoded data removed]",
      "text/plain": [
       "<Figure size 432x288 with 1 Axes>"
      ]
     },
     "metadata": {
      "needs_background": "light"
     },
     "output_type": "display_data"
    }
   ],
   "source": [
    "sarsa_rewards = all_rewards\n",
    "plt.plot(sarsa_rewards)\n",
    "plt.xlabel(\"Episode\")\n",
    "plt.ylabel(\"Episode \\n Rewards\",rotation=0, labelpad=20)\n",
    "plt.ylim(round(min(sarsa_rewards)),round(max(sarsa_rewards),4))\n",
    "plt.tight_layout()\n",
    "plt.show()"
   ]
  },
  {
   "cell_type": "markdown",
   "metadata": {},
   "source": [
    "#### Check values "
   ]
  },
  {
   "cell_type": "markdown",
   "metadata": {},
   "source": [
    "Let's see if our optimal_policy gives the shortest path from S to G \\\n",
    "Beginning with our starting position[index 36], we observe it's optimal action to be 0[UP] \\\n",
    "Subsequent succeeding states[indices 24-34] give the same optimal action as 1[RIGHT] \\\n",
    "Finally, optimal_policy[35] moves agent downwards to the goal state "
   ]
  },
  {
   "cell_type": "code",
   "execution_count": 28,
   "metadata": {},
   "outputs": [
    {
     "data": {
      "text/plain": [
       "(0.0, array([1., 1., 1., 1., 1., 1., 1., 1., 1., 1., 1., 2.]))"
      ]
     },
     "execution_count": 28,
     "metadata": {},
     "output_type": "execute_result"
    }
   ],
   "source": [
    "optimal_policy[36], optimal_policy[24:36]"
   ]
  },
  {
   "cell_type": "markdown",
   "metadata": {},
   "source": [
    "Let's check our q_values array \\\n",
    "Observe that rows 37-47 are all zeros \\\n",
    "This is because rows 37-46 correspond to cliff-states while state 47 is the goal state \\\n",
    "So naturally, there are no actions taken from these states & therefore, their action-values are not updated"
   ]
  },
  {
   "cell_type": "code",
   "execution_count": 29,
   "metadata": {},
   "outputs": [
    {
     "data": {
      "text/plain": [
       "array([[ -6.90709264,  -6.85490317,  -6.84464869,  -7.01535841],\n",
       "       [ -6.76466455,  -6.70626189,  -6.81031318,  -6.80510475],\n",
       "       [ -6.59438374,  -6.47216647,  -6.49248108,  -6.68709201],\n",
       "       [ -6.22646397,  -6.17368124,  -6.24397746,  -6.35614334],\n",
       "       [ -6.02785682,  -5.8977028 ,  -5.90012936,  -5.95608274],\n",
       "       [ -5.59873331,  -5.55080331,  -5.54661348,  -5.84753066],\n",
       "       [ -5.3670877 ,  -5.16717089,  -5.32151911,  -5.17189923],\n",
       "       [ -4.86657917,  -4.76390249,  -4.81494345,  -5.12380712],\n",
       "       [ -4.31199908,  -4.27462374,  -4.42518385,  -4.40077908],\n",
       "       [ -4.01263061,  -3.79720978,  -3.786024  ,  -3.73501197],\n",
       "       [ -3.36579569,  -3.27310239,  -3.24646544,  -3.67190766],\n",
       "       [ -2.64908109,  -3.18765104,  -2.67559108,  -2.8919193 ],\n",
       "       [ -6.9177811 ,  -6.96333473,  -7.16758969,  -6.99687484],\n",
       "       [ -6.76436208,  -6.77275232,  -6.78602497,  -6.72759732],\n",
       "       [ -6.61550832,  -6.51250186,  -6.55604858,  -6.47704063],\n",
       "       [ -6.21978543,  -6.22479474,  -6.30436165,  -6.37616706],\n",
       "       [ -5.88461786,  -5.85674974,  -5.89901141,  -6.19570141],\n",
       "       [ -5.56875239,  -5.44214014,  -5.53890149,  -5.51042094],\n",
       "       [ -5.26437732,  -5.03775786,  -5.07882548,  -5.24035388],\n",
       "       [ -4.57586459,  -4.57023262,  -4.59218842,  -4.57297492],\n",
       "       [ -4.30638545,  -4.01841289,  -4.05539272,  -4.30733704],\n",
       "       [ -3.5412971 ,  -3.39920384,  -3.41570583,  -3.6082179 ],\n",
       "       [ -2.74967392,  -2.69779361,  -2.68646782,  -3.36167324],\n",
       "       [ -2.42014203,  -2.18165625,  -1.89981212,  -2.27322656],\n",
       "       [ -7.17676615,  -7.17570464,  -7.44205301,  -7.33780595],\n",
       "       [ -6.88418385,  -6.86189404, -50.495     ,  -7.02346734],\n",
       "       [ -6.66516927,  -6.5132156 , -50.3375    ,  -6.55741865],\n",
       "       [ -6.30205978,  -6.12579511, -50.74334375,  -6.28305997],\n",
       "       [ -5.90733636,  -5.6953279 , -50.70875   ,  -5.76850776],\n",
       "       [ -5.32614484,  -5.217031  , -50.85485937,  -5.45152176],\n",
       "       [ -4.77916652,  -4.68559   , -50.66375   ,  -4.93918628],\n",
       "       [ -4.19724253,  -4.0951    , -50.98273672,  -4.17536509],\n",
       "       [ -3.56199104,  -3.439     , -51.12720043,  -3.99147327],\n",
       "       [ -2.87904957,  -2.71      , -51.03104141,  -2.99275149],\n",
       "       [ -1.987125  ,  -1.9       , -51.36305555,  -2.51915508],\n",
       "       [ -1.4025    ,  -1.2125    ,  -1.        ,  -1.239375  ],\n",
       "       [ -7.45813417, -50.        ,  -7.53084889,  -7.64470664],\n",
       "       [  0.        ,   0.        ,   0.        ,   0.        ],\n",
       "       [  0.        ,   0.        ,   0.        ,   0.        ],\n",
       "       [  0.        ,   0.        ,   0.        ,   0.        ],\n",
       "       [  0.        ,   0.        ,   0.        ,   0.        ],\n",
       "       [  0.        ,   0.        ,   0.        ,   0.        ],\n",
       "       [  0.        ,   0.        ,   0.        ,   0.        ],\n",
       "       [  0.        ,   0.        ,   0.        ,   0.        ],\n",
       "       [  0.        ,   0.        ,   0.        ,   0.        ],\n",
       "       [  0.        ,   0.        ,   0.        ,   0.        ],\n",
       "       [  0.        ,   0.        ,   0.        ,   0.        ],\n",
       "       [  0.        ,   0.        ,   0.        ,   0.        ]])"
      ]
     },
     "execution_count": 29,
     "metadata": {},
     "output_type": "execute_result"
    }
   ],
   "source": [
    "q_values"
   ]
  },
  {
   "cell_type": "markdown",
   "metadata": {},
   "source": [
    "#### Rendering "
   ]
  },
  {
   "cell_type": "markdown",
   "metadata": {},
   "source": [
    "Time to see our agent in action! \\\n",
    "By looping through each state in optimal_policy, we can get the optimal action in that state \\\n",
    "We then pass that action to env.step() before rendering environment again "
   ]
  },
  {
   "cell_type": "markdown",
   "metadata": {},
   "source": [
    "x marks agent's position \\\n",
    "c marks cliff states \\\n",
    "T marks terminal state \n",
    "\n",
    "It's interesting to see our agent making it's way to the goal state via the shortest path[hugging the top of the cliff states] using only 100 episodes of training "
   ]
  },
  {
   "cell_type": "code",
   "execution_count": 30,
   "metadata": {},
   "outputs": [
    {
     "name": "stdout",
     "output_type": "stream",
     "text": [
      "o  o  o  o  o  o  o  o  o  o  o  o\n",
      "o  o  o  o  o  o  o  o  o  o  o  o\n",
      "o  o  o  o  o  o  o  o  o  o  o  o\n",
      "x  C  C  C  C  C  C  C  C  C  C  T\n",
      "\n",
      "o  o  o  o  o  o  o  o  o  o  o  o\n",
      "o  o  o  o  o  o  o  o  o  o  o  o\n",
      "x  o  o  o  o  o  o  o  o  o  o  o\n",
      "o  C  C  C  C  C  C  C  C  C  C  T\n",
      "\n",
      "o  o  o  o  o  o  o  o  o  o  o  o\n",
      "o  o  o  o  o  o  o  o  o  o  o  o\n",
      "o  x  o  o  o  o  o  o  o  o  o  o\n",
      "o  C  C  C  C  C  C  C  C  C  C  T\n",
      "\n",
      "o  o  o  o  o  o  o  o  o  o  o  o\n",
      "o  o  o  o  o  o  o  o  o  o  o  o\n",
      "o  o  x  o  o  o  o  o  o  o  o  o\n",
      "o  C  C  C  C  C  C  C  C  C  C  T\n",
      "\n",
      "o  o  o  o  o  o  o  o  o  o  o  o\n",
      "o  o  o  o  o  o  o  o  o  o  o  o\n",
      "o  o  o  x  o  o  o  o  o  o  o  o\n",
      "o  C  C  C  C  C  C  C  C  C  C  T\n",
      "\n",
      "o  o  o  o  o  o  o  o  o  o  o  o\n",
      "o  o  o  o  o  o  o  o  o  o  o  o\n",
      "o  o  o  o  x  o  o  o  o  o  o  o\n",
      "o  C  C  C  C  C  C  C  C  C  C  T\n",
      "\n",
      "o  o  o  o  o  o  o  o  o  o  o  o\n",
      "o  o  o  o  o  o  o  o  o  o  o  o\n",
      "o  o  o  o  o  x  o  o  o  o  o  o\n",
      "o  C  C  C  C  C  C  C  C  C  C  T\n",
      "\n",
      "o  o  o  o  o  o  o  o  o  o  o  o\n",
      "o  o  o  o  o  o  o  o  o  o  o  o\n",
      "o  o  o  o  o  o  x  o  o  o  o  o\n",
      "o  C  C  C  C  C  C  C  C  C  C  T\n",
      "\n",
      "o  o  o  o  o  o  o  o  o  o  o  o\n",
      "o  o  o  o  o  o  o  o  o  o  o  o\n",
      "o  o  o  o  o  o  o  x  o  o  o  o\n",
      "o  C  C  C  C  C  C  C  C  C  C  T\n",
      "\n",
      "o  o  o  o  o  o  o  o  o  o  o  o\n",
      "o  o  o  o  o  o  o  o  o  o  o  o\n",
      "o  o  o  o  o  o  o  o  x  o  o  o\n",
      "o  C  C  C  C  C  C  C  C  C  C  T\n",
      "\n",
      "o  o  o  o  o  o  o  o  o  o  o  o\n",
      "o  o  o  o  o  o  o  o  o  o  o  o\n",
      "o  o  o  o  o  o  o  o  o  x  o  o\n",
      "o  C  C  C  C  C  C  C  C  C  C  T\n",
      "\n",
      "o  o  o  o  o  o  o  o  o  o  o  o\n",
      "o  o  o  o  o  o  o  o  o  o  o  o\n",
      "o  o  o  o  o  o  o  o  o  o  x  o\n",
      "o  C  C  C  C  C  C  C  C  C  C  T\n",
      "\n",
      "o  o  o  o  o  o  o  o  o  o  o  o\n",
      "o  o  o  o  o  o  o  o  o  o  o  o\n",
      "o  o  o  o  o  o  o  o  o  o  o  x\n",
      "o  C  C  C  C  C  C  C  C  C  C  T\n",
      "\n",
      "o  o  o  o  o  o  o  o  o  o  o  o\n",
      "o  o  o  o  o  o  o  o  o  o  o  o\n",
      "o  o  o  o  o  o  o  o  o  o  o  o\n",
      "o  C  C  C  C  C  C  C  C  C  C  x\n",
      "\n"
     ]
    }
   ],
   "source": [
    "env = gym.make('CliffWalking-v0', new_step_api=True, render_mode='human')\n",
    "state = env.reset()\n",
    "env.render()\n",
    "for episode in range(100):\n",
    "    next_state, reward, done, truncated, info = env.step(int(optimal_policy[state]))\n",
    "    state = next_state\n",
    "    env.render()\n",
    "    \n",
    "    if done:  \n",
    "        break\n",
    "        \n",
    "env.close() "
   ]
  },
  {
   "cell_type": "markdown",
   "metadata": {},
   "source": [
    "#### Conclusion "
   ]
  },
  {
   "cell_type": "markdown",
   "metadata": {},
   "source": [
    "As observed, Sarsa is able to solve this environment efficiently by considering the sum of reward & next state's action value to be the update target at every timestep. Instead of waiting till the end of each episode before updating, Sarsa makes use of the bootstrap idea of Dynamic Programming & combines it with the sampling idea from monte-carlo to form an efficient algorithm. "
   ]
  },
  {
   "cell_type": "markdown",
   "metadata": {},
   "source": [
    "# Part 2: Q-learning"
   ]
  },
  {
   "cell_type": "markdown",
   "metadata": {},
   "source": [
    "Next, let's try Q-learning \\\n",
    "The only difference lies in the agent_step() \\\n",
    "Instead of using the discounted value of the next state-action pair, we assume the agent takes an action that maximizes this value \\\n",
    "Since the agent only uses it's e-greedy policy for getting to the next state, but assumes a greedy policy for estimating q*, Q-learning is considered to be off-policy"
   ]
  },
  {
   "cell_type": "markdown",
   "metadata": {},
   "source": [
    "#### Create environment "
   ]
  },
  {
   "cell_type": "code",
   "execution_count": 39,
   "metadata": {},
   "outputs": [],
   "source": [
    "env = gym.make('CliffWalking-v0', new_step_api=True)"
   ]
  },
  {
   "cell_type": "code",
   "execution_count": 40,
   "metadata": {},
   "outputs": [],
   "source": [
    "q_values = np.zeros((48,4))\n",
    "optimal_policy = np.zeros(37)\n",
    "epsilon = 0.1\n",
    "discount = 0.9\n",
    "step_size = 0.5\n",
    "episodes = 100\n",
    "all_rewards = []"
   ]
  },
  {
   "cell_type": "markdown",
   "metadata": {},
   "source": [
    "#### Define functions "
   ]
  },
  {
   "cell_type": "markdown",
   "metadata": {},
   "source": [
    "The only difference is agent_step() where we use max(q_values[next_state]) instead of q_values[next_state][next_action]"
   ]
  },
  {
   "cell_type": "code",
   "execution_count": 41,
   "metadata": {},
   "outputs": [],
   "source": [
    "def choose_action(s):\n",
    "    action_prob = np.random.uniform(s)\n",
    "    if action_prob < epsilon:\n",
    "        action = env.action_space.sample()\n",
    "    else:\n",
    "        action = np.random.choice([idx for idx in range(4) if q_values[s][idx] == max(q_values[s])])\n",
    "    return int(action)    \n",
    "    \n",
    "def get_optimal_policy():\n",
    "    for i in range(len(optimal_policy)):\n",
    "        optimal_policy[i] = np.random.choice([idx for idx in range(4) if q_values[i][idx] == max(q_values[i])])\n",
    "        \n",
    "def agent_step():\n",
    "    best_q = np.random.choice([q for q in q_values[next_state] if q == max(q_values[next_state])])\n",
    "    q_values[state][action] += step_size*(reward + discount*best_q - q_values[state][action])\n",
    "    \n",
    "def agent_end():\n",
    "    q_values[state][action] += step_size*(reward - q_values[state][action])"
   ]
  },
  {
   "cell_type": "markdown",
   "metadata": {},
   "source": [
    "#### Train agent "
   ]
  },
  {
   "cell_type": "code",
   "execution_count": 42,
   "metadata": {},
   "outputs": [
    {
     "name": "stderr",
     "output_type": "stream",
     "text": [
      "100%|██████████| 100/100 [00:00<00:00, 667.46it/s]\n"
     ]
    }
   ],
   "source": [
    "for episode in tqdm(range(episodes)):\n",
    "    state = env.reset()\n",
    "    terminate = False\n",
    "    episode_rewards = 0\n",
    "    while not terminate:\n",
    "        action = choose_action(state)\n",
    "        next_state, reward, terminate, truncated, info = env.step(action)\n",
    "        episode_rewards += reward\n",
    "        if not terminate:\n",
    "            agent_step()\n",
    "            state = next_state\n",
    "        else:\n",
    "            agent_end()\n",
    "            all_rewards.append(episode_rewards)\n",
    "\n",
    "#     if episode%10 == 0:\n",
    "#         average_rewards.append(sum(total_rewards)/len(total_rewards))\n",
    "#         print(f\"average reward for batch {episode}: {sum(total_rewards)/len(total_rewards)}\")\n",
    "get_optimal_policy()        \n",
    "       "
   ]
  },
  {
   "cell_type": "markdown",
   "metadata": {},
   "source": [
    "#### Plot average rewards "
   ]
  },
  {
   "cell_type": "code",
   "execution_count": 44,
   "metadata": {},
   "outputs": [
    {
     "data": {
      "image/png": "[encoded data removed]",
      "text/plain": [
       "<Figure size 432x288 with 1 Axes>"
      ]
     },
     "metadata": {
      "needs_background": "light"
     },
     "output_type": "display_data"
    }
   ],
   "source": [
    "q_rewards = all_rewards\n",
    "plt.plot(q_rewards)\n",
    "plt.xlabel(\"Episode\")\n",
    "plt.ylabel(\"Episode \\n Rewards\",rotation=0, labelpad=20)\n",
    "plt.ylim(round(min(q_rewards)),round(max(q_rewards),4))\n",
    "plt.tight_layout()\n",
    "plt.show()"
   ]
  },
  {
   "cell_type": "markdown",
   "metadata": {},
   "source": [
    "#### Comparing Sarsa & Q-learning "
   ]
  },
  {
   "cell_type": "markdown",
   "metadata": {},
   "source": [
    "Seems that Q-learning takes abit lnger to converge"
   ]
  },
  {
   "cell_type": "code",
   "execution_count": 48,
   "metadata": {},
   "outputs": [
    {
     "data": {
      "image/png": "[encoded data removed]",
      "text/plain": [
       "<Figure size 432x288 with 1 Axes>"
      ]
     },
     "metadata": {
      "needs_background": "light"
     },
     "output_type": "display_data"
    }
   ],
   "source": [
    "plt.plot(sarsa_rewards)\n",
    "plt.plot(q_rewards)\n",
    "plt.xlabel(\"Episode\")\n",
    "plt.ylabel(\"Episode \\n Rewards\",rotation=0, labelpad=20)\n",
    "plt.ylim(round(min(q_rewards)),round(max(q_rewards),4))\n",
    "plt.legend(['sarsa','Q-learning'])\n",
    "plt.tight_layout()\n",
    "plt.show()"
   ]
  },
  {
   "cell_type": "markdown",
   "metadata": {},
   "source": [
    "#### Check values "
   ]
  },
  {
   "cell_type": "markdown",
   "metadata": {},
   "source": [
    "Observe that Q-learning agent is also able to find the same optimal path to the goal state"
   ]
  },
  {
   "cell_type": "code",
   "execution_count": 350,
   "metadata": {},
   "outputs": [
    {
     "data": {
      "text/plain": [
       "(0.0, array([1., 1., 1., 1., 1., 1., 1., 1., 1., 1., 1., 2.]))"
      ]
     },
     "execution_count": 350,
     "metadata": {},
     "output_type": "execute_result"
    }
   ],
   "source": [
    "optimal_policy[36], optimal_policy[24:36]"
   ]
  },
  {
   "cell_type": "markdown",
   "metadata": {},
   "source": [
    "Again, rows 37-47 consist of zeros"
   ]
  },
  {
   "cell_type": "code",
   "execution_count": 351,
   "metadata": {},
   "outputs": [
    {
     "data": {
      "text/plain": [
       "array([[ -6.89410964,  -6.84226036,  -6.80415752,  -6.93320904],\n",
       "       [ -6.76466455,  -6.68185913,  -6.74107327,  -6.68718177],\n",
       "       [ -6.41514078,  -6.45903239,  -6.54480943,  -6.59365568],\n",
       "       [ -6.22646397,  -6.18968226,  -6.35497838,  -6.16634351],\n",
       "       [ -6.02785682,  -5.91830658,  -6.00453241,  -5.97659562],\n",
       "       [ -5.59873331,  -5.58063198,  -5.66047277,  -5.78074395],\n",
       "       [ -5.3670877 ,  -5.21209497,  -5.28804156,  -5.50162887],\n",
       "       [ -4.86657917,  -4.7986147 ,  -4.79457506,  -4.88825837],\n",
       "       [ -4.31199908,  -4.28015226,  -4.45054653,  -4.41699266],\n",
       "       [ -4.01263061,  -3.82029414,  -3.75623186,  -4.03640884],\n",
       "       [ -3.36579569,  -3.29730237,  -3.28450687,  -3.59236272],\n",
       "       [ -3.01662704,  -3.01662704,  -2.6844207 ,  -2.7541193 ],\n",
       "       [ -6.96394495,  -7.01381867,  -7.09766019,  -7.08010976],\n",
       "       [ -6.7734418 ,  -6.79870044,  -6.94908663,  -6.91176901],\n",
       "       [ -6.53909239,  -6.53951088,  -6.59546835,  -6.64970923],\n",
       "       [ -6.34053028,  -6.22432228,  -6.21803885,  -6.23201165],\n",
       "       [ -6.00159059,  -5.88219197,  -5.9525255 ,  -6.15710826],\n",
       "       [ -5.73465366,  -5.47678131,  -5.50372824,  -5.57488405],\n",
       "       [ -5.1965909 ,  -5.05448198,  -5.02493303,  -5.39566444],\n",
       "       [ -4.79284665,  -4.5723776 ,  -4.56970852,  -4.67421646],\n",
       "       [ -4.16733106,  -4.04162178,  -4.05171119,  -4.21851781],\n",
       "       [ -3.50022699,  -3.40889217,  -3.39437537,  -4.00026421],\n",
       "       [ -2.83437492,  -2.70056841,  -2.70142804,  -3.13676606],\n",
       "       [ -2.04784688,  -2.26219063,  -1.89993718,  -2.0986125 ],\n",
       "       [ -7.19905983,  -7.17570464,  -7.42253388,  -7.22610427],\n",
       "       [ -6.95407385,  -6.86189404, -50.39375   ,  -6.97651488],\n",
       "       [ -6.59038887,  -6.5132156 , -50.6418125 ,  -6.51722782],\n",
       "       [ -6.26117584,  -6.12579511, -50.225     ,  -6.45377585],\n",
       "       [ -5.77168535,  -5.6953279 , -50.5878125 ,  -5.94532866],\n",
       "       [ -5.33903682,  -5.217031  , -50.83472187,  -5.48539642],\n",
       "       [ -4.90068605,  -4.68559   , -50.94334766,  -4.97104193],\n",
       "       [ -4.18463466,  -4.0951    , -51.16555361,  -4.25245201],\n",
       "       [ -3.45752909,  -3.439     , -51.01798578,  -4.0105604 ],\n",
       "       [ -3.02862151,  -2.71      , -51.19208649,  -3.13942529],\n",
       "       [ -2.24676164,  -1.9       , -51.35748217,  -1.94167016],\n",
       "       [ -1.18875   ,  -1.42625   ,  -1.        ,  -1.295625  ],\n",
       "       [ -7.45813417, -50.        ,  -7.4965591 ,  -7.4965591 ],\n",
       "       [  0.        ,   0.        ,   0.        ,   0.        ],\n",
       "       [  0.        ,   0.        ,   0.        ,   0.        ],\n",
       "       [  0.        ,   0.        ,   0.        ,   0.        ],\n",
       "       [  0.        ,   0.        ,   0.        ,   0.        ],\n",
       "       [  0.        ,   0.        ,   0.        ,   0.        ],\n",
       "       [  0.        ,   0.        ,   0.        ,   0.        ],\n",
       "       [  0.        ,   0.        ,   0.        ,   0.        ],\n",
       "       [  0.        ,   0.        ,   0.        ,   0.        ],\n",
       "       [  0.        ,   0.        ,   0.        ,   0.        ],\n",
       "       [  0.        ,   0.        ,   0.        ,   0.        ],\n",
       "       [  0.        ,   0.        ,   0.        ,   0.        ]])"
      ]
     },
     "execution_count": 351,
     "metadata": {},
     "output_type": "execute_result"
    }
   ],
   "source": [
    "q_values"
   ]
  },
  {
   "cell_type": "markdown",
   "metadata": {},
   "source": [
    "#### Rendering "
   ]
  },
  {
   "cell_type": "code",
   "execution_count": 352,
   "metadata": {},
   "outputs": [
    {
     "name": "stdout",
     "output_type": "stream",
     "text": [
      "o  o  o  o  o  o  o  o  o  o  o  o\n",
      "o  o  o  o  o  o  o  o  o  o  o  o\n",
      "o  o  o  o  o  o  o  o  o  o  o  o\n",
      "x  C  C  C  C  C  C  C  C  C  C  T\n",
      "\n",
      "o  o  o  o  o  o  o  o  o  o  o  o\n",
      "o  o  o  o  o  o  o  o  o  o  o  o\n",
      "x  o  o  o  o  o  o  o  o  o  o  o\n",
      "o  C  C  C  C  C  C  C  C  C  C  T\n",
      "\n",
      "o  o  o  o  o  o  o  o  o  o  o  o\n",
      "o  o  o  o  o  o  o  o  o  o  o  o\n",
      "o  x  o  o  o  o  o  o  o  o  o  o\n",
      "o  C  C  C  C  C  C  C  C  C  C  T\n",
      "\n",
      "o  o  o  o  o  o  o  o  o  o  o  o\n",
      "o  o  o  o  o  o  o  o  o  o  o  o\n",
      "o  o  x  o  o  o  o  o  o  o  o  o\n",
      "o  C  C  C  C  C  C  C  C  C  C  T\n",
      "\n",
      "o  o  o  o  o  o  o  o  o  o  o  o\n",
      "o  o  o  o  o  o  o  o  o  o  o  o\n",
      "o  o  o  x  o  o  o  o  o  o  o  o\n",
      "o  C  C  C  C  C  C  C  C  C  C  T\n",
      "\n",
      "o  o  o  o  o  o  o  o  o  o  o  o\n",
      "o  o  o  o  o  o  o  o  o  o  o  o\n",
      "o  o  o  o  x  o  o  o  o  o  o  o\n",
      "o  C  C  C  C  C  C  C  C  C  C  T\n",
      "\n",
      "o  o  o  o  o  o  o  o  o  o  o  o\n",
      "o  o  o  o  o  o  o  o  o  o  o  o\n",
      "o  o  o  o  o  x  o  o  o  o  o  o\n",
      "o  C  C  C  C  C  C  C  C  C  C  T\n",
      "\n",
      "o  o  o  o  o  o  o  o  o  o  o  o\n",
      "o  o  o  o  o  o  o  o  o  o  o  o\n",
      "o  o  o  o  o  o  x  o  o  o  o  o\n",
      "o  C  C  C  C  C  C  C  C  C  C  T\n",
      "\n",
      "o  o  o  o  o  o  o  o  o  o  o  o\n",
      "o  o  o  o  o  o  o  o  o  o  o  o\n",
      "o  o  o  o  o  o  o  x  o  o  o  o\n",
      "o  C  C  C  C  C  C  C  C  C  C  T\n",
      "\n",
      "o  o  o  o  o  o  o  o  o  o  o  o\n",
      "o  o  o  o  o  o  o  o  o  o  o  o\n",
      "o  o  o  o  o  o  o  o  x  o  o  o\n",
      "o  C  C  C  C  C  C  C  C  C  C  T\n",
      "\n",
      "o  o  o  o  o  o  o  o  o  o  o  o\n",
      "o  o  o  o  o  o  o  o  o  o  o  o\n",
      "o  o  o  o  o  o  o  o  o  x  o  o\n",
      "o  C  C  C  C  C  C  C  C  C  C  T\n",
      "\n",
      "o  o  o  o  o  o  o  o  o  o  o  o\n",
      "o  o  o  o  o  o  o  o  o  o  o  o\n",
      "o  o  o  o  o  o  o  o  o  o  x  o\n",
      "o  C  C  C  C  C  C  C  C  C  C  T\n",
      "\n",
      "o  o  o  o  o  o  o  o  o  o  o  o\n",
      "o  o  o  o  o  o  o  o  o  o  o  o\n",
      "o  o  o  o  o  o  o  o  o  o  o  x\n",
      "o  C  C  C  C  C  C  C  C  C  C  T\n",
      "\n",
      "o  o  o  o  o  o  o  o  o  o  o  o\n",
      "o  o  o  o  o  o  o  o  o  o  o  o\n",
      "o  o  o  o  o  o  o  o  o  o  o  o\n",
      "o  C  C  C  C  C  C  C  C  C  C  x\n",
      "\n"
     ]
    }
   ],
   "source": [
    "env = gym.make('CliffWalking-v0', new_step_api=True, render_mode='human')\n",
    "state = env.reset()\n",
    "env.render()\n",
    "for episode in range(100):\n",
    "    next_state, reward, done, truncated, info = env.step(int(optimal_policy[state]))\n",
    "    state = next_state\n",
    "    env.render()\n",
    "    \n",
    "    if done:  \n",
    "        break\n",
    "        \n",
    "env.close() "
   ]
  },
  {
   "cell_type": "markdown",
   "metadata": {},
   "source": [
    "#### Conclusion "
   ]
  },
  {
   "cell_type": "markdown",
   "metadata": {},
   "source": [
    "We observe that Q-learning is also able to solve this environment efficiently. By taking max(q_values[next_state]), Q-learning simplifies the code a little and yet is able to achieve similar results to Sarsa. \n",
    "\n",
    "Some differences are as followed: \\\n",
    "1) Q-learning directly learns optimal policy while Sarsa learns near-optimal policy. Parameter adjustments may be required for Sarsa to learn an optimal policy \\\n",
    "2) Q-learning follows an e-greedy policy but uses a greedy policy for estimating action values. Sarsa uses the same policy for estimating action values "
   ]
  }
 ],
 "metadata": {
  "kernelspec": {
   "display_name": "Python 3",
   "language": "python",
   "name": "python3"
  },
  "language_info": {
   "codemirror_mode": {
    "name": "ipython",
    "version": 3
   },
   "file_extension": ".py",
   "mimetype": "text/x-python",
   "name": "python",
   "nbconvert_exporter": "python",
   "pygments_lexer": "ipython3",
   "version": "3.8.3"
  }
 },
 "nbformat": 4,
 "nbformat_minor": 4
}
